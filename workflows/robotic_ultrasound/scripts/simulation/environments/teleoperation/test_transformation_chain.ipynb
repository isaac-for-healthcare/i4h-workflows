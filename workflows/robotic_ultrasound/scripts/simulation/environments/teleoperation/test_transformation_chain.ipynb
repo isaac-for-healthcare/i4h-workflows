{
 "cells": [
  {
   "cell_type": "code",
   "execution_count": 1,
   "metadata": {},
   "outputs": [],
   "source": [
    "import omni.isaac.lab.utils.math as math_utils  \n",
    "import numpy as np \n",
    "import torch"
   ]
  },
  {
   "cell_type": "code",
   "execution_count": 12,
   "metadata": {},
   "outputs": [],
   "source": [
    "def create_quat_from_euler_xyz(roll, pitch, yaw):\n",
    "    nifti_rot = np.array([roll, pitch, yaw])\n",
    "    nifti_rot_rad = np.radians(nifti_rot)\n",
    "    nifti_rot_rad = torch.tensor(nifti_rot_rad)\n",
    "    nifti_quat = math_utils.quat_from_euler_xyz(roll=nifti_rot_rad[0], pitch=nifti_rot_rad[1], yaw=nifti_rot_rad[2])\n",
    "    nifti_quat = nifti_quat.unsqueeze(0).double()\n",
    "    return nifti_quat\n",
    "\n"
   ]
  },
  {
   "cell_type": "code",
   "execution_count": null,
   "metadata": {},
   "outputs": [],
   "source": [
    "# sample vector\n",
    "vector = np.array([1, 10, 100])\n",
    "vector = torch.tensor(vector).unsqueeze(0).double()\n",
    "print(\"vector:\", vector)\n",
    "print(\"vector shape:\", vector.shape)\n",
    "\n",
    "# sample quaternion in w, x, y, z format\n",
    "quat = np.array([1, 0, 0, 0])\n",
    "\n",
    "# pose_ee_in_organ_frame = np.stack([vector, quat])\n",
    "print(\"Original pose in organ frame:\")\n",
    "print(f\"Position: {vector}\")\n",
    "print(f\"Quaternion: {quat}\")\n",
    "\n",
    "# create transformation matrix from organ_frame to nifti_frame, assming the nifti frame is rotated 90 degrees around x axis, 0 degrees around y axis and 180 degrees around z axis\n",
    "nifti_quat_1 = create_quat_from_euler_xyz(90.0, 180.0, 0.0)\n",
    "print(\"nifti_quat_1:\", nifti_quat_1, \"shape:\", nifti_quat_1.shape)\n",
    "\n",
    "nifti_quat_2 = create_quat_from_euler_xyz(0.0, 180.0, 0.0,)\n",
    "print(\"nifti_quat_2:\", nifti_quat_2, \"shape:\", nifti_quat_2.shape)\n",
    "\n",
    "# apply the transformation to the vector \n",
    "vector_in_nifti_frame = math_utils.quat_apply(nifti_quat_1, vector)\n",
    "print(\"applied nifti_quat_1 to vector\")\n",
    "print(\"vector_in_nifti_frame:\", vector_in_nifti_frame, \"shape:\", vector_in_nifti_frame.shape)\n",
    "\n",
    "vector_in_nifti_frame = math_utils.quat_apply(nifti_quat_2, vector_in_nifti_frame)\n",
    "print(\"applied nifti_quat_2 to vector_in_nifti_frame\")\n",
    "print(\"vector_in_nifti_frame:\", vector_in_nifti_frame, \"shape:\", vector_in_nifti_frame.shape)\n",
    "\n",
    "trans_nifti_to_sim = torch.zeros(1, 3).double()\n",
    "#offset in z direction\n",
    "trans_nifti_to_sim[0, 2] = -390.0 / 1000.0\n",
    "\n",
    "\n",
    "pos =  vector_in_nifti_frame + trans_nifti_to_sim\n",
    "print(\"pos:\", pos, \"shape:\", pos.shape)\n",
    "\n",
    "\n",
    "\n",
    "\n"
   ]
  },
  {
   "cell_type": "code",
   "execution_count": null,
   "metadata": {},
   "outputs": [],
   "source": []
  }
 ],
 "metadata": {
  "kernelspec": {
   "display_name": "robotic_ultrasound",
   "language": "python",
   "name": "python3"
  },
  "language_info": {
   "codemirror_mode": {
    "name": "ipython",
    "version": 3
   },
   "file_extension": ".py",
   "mimetype": "text/x-python",
   "name": "python",
   "nbconvert_exporter": "python",
   "pygments_lexer": "ipython3",
   "version": "3.10.16"
  }
 },
 "nbformat": 4,
 "nbformat_minor": 2
}
